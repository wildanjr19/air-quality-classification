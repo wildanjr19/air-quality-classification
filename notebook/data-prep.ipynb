{
 "cells": [
  {
   "cell_type": "code",
   "execution_count": null,
   "id": "e5213073",
   "metadata": {},
   "outputs": [
    {
     "name": "stdout",
     "output_type": "stream",
     "text": [
      "Dataset berhasil dibagi ke folder train dan val dengan rasio 80:20.\n"
     ]
    }
   ],
   "source": [
    "import os\n",
    "import shutil\n",
    "import random\n",
    "\n",
    "# path\n",
    "source_dir = 'data_image'\n",
    "target_dir = 'dataset-v3'\n",
    "split_ratio = 0.8  # 80:20\n",
    "\n",
    "classes = [d for d in os.listdir(source_dir) if os.path.isdir(os.path.join(source_dir, d))]\n",
    "\n",
    "# buat folder target\n",
    "for split in ['train', 'val']:\n",
    "    for cls in classes:\n",
    "        os.makedirs(os.path.join(target_dir, split, cls), exist_ok=True)\n",
    "\n",
    "for cls in classes:\n",
    "    img_dir = os.path.join(source_dir, cls)\n",
    "    images = [f for f in os.listdir(img_dir) if f.lower().endswith(('.jpg', '.jpeg', '.png'))]\n",
    "    random.shuffle(images)\n",
    "    split_idx = int(len(images) * split_ratio)\n",
    "    train_imgs = images[:split_idx]\n",
    "    val_imgs = images[split_idx:]\n",
    "\n",
    "    # copy ke folder train\n",
    "    for img in train_imgs:\n",
    "        src = os.path.join(img_dir, img)\n",
    "        dst = os.path.join(target_dir, 'train', cls, img)\n",
    "        shutil.copy2(src, dst)\n",
    "\n",
    "    # copy ke folder val\n",
    "    for img in val_imgs:\n",
    "        src = os.path.join(img_dir, img)\n",
    "        dst = os.path.join(target_dir, 'val', cls, img)\n",
    "        shutil.copy2(src, dst)\n",
    "\n",
    "print(f\"Dataset berhasil dibagi ke folder {target_dir} sebagai train dan val dengan rasio 80:20.\")"
   ]
  }
 ],
 "metadata": {
  "kernelspec": {
   "display_name": "Python 3",
   "language": "python",
   "name": "python3"
  },
  "language_info": {
   "codemirror_mode": {
    "name": "ipython",
    "version": 3
   },
   "file_extension": ".py",
   "mimetype": "text/x-python",
   "name": "python",
   "nbconvert_exporter": "python",
   "pygments_lexer": "ipython3",
   "version": "3.11.0"
  }
 },
 "nbformat": 4,
 "nbformat_minor": 5
}
