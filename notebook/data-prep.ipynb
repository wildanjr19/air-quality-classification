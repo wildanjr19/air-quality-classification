{
 "cells": [
  {
   "cell_type": "code",
   "execution_count": null,
   "id": "e5213073",
   "metadata": {},
   "outputs": [
    {
     "name": "stdout",
     "output_type": "stream",
     "text": [
      "Dataset berhasil dibagi ke folder train dan val dengan rasio 80:20.\n"
     ]
    }
   ],
   "source": [
    "import os\n",
    "import shutil\n",
    "import random\n",
    "\n",
    "# Path asal dan tujuan\n",
    "source_dir = 'data_image'\n",
    "target_dir = 'dataset-v3'\n",
    "split_ratio = 0.8  # 80% train, 20% val\n",
    "\n",
    "classes = [d for d in os.listdir(source_dir) if os.path.isdir(os.path.join(source_dir, d))]\n",
    "\n",
    "# Membuat folder target\n",
    "for split in ['train', 'val']:\n",
    "    for cls in classes:\n",
    "        os.makedirs(os.path.join(target_dir, split, cls), exist_ok=True)\n",
    "\n",
    "for cls in classes:\n",
    "    img_dir = os.path.join(source_dir, cls)\n",
    "    images = [f for f in os.listdir(img_dir) if f.lower().endswith(('.jpg', '.jpeg', '.png'))]\n",
    "    random.shuffle(images)\n",
    "    split_idx = int(len(images) * split_ratio)\n",
    "    train_imgs = images[:split_idx]\n",
    "    val_imgs = images[split_idx:]\n",
    "\n",
    "    # Copy ke folder train\n",
    "    for img in train_imgs:\n",
    "        src = os.path.join(img_dir, img)\n",
    "        dst = os.path.join(target_dir, 'train', cls, img)\n",
    "        shutil.copy2(src, dst)\n",
    "\n",
    "    # Copy ke folder val\n",
    "    for img in val_imgs:\n",
    "        src = os.path.join(img_dir, img)\n",
    "        dst = os.path.join(target_dir, 'val', cls, img)\n",
    "        shutil.copy2(src, dst)\n",
    "\n",
    "print(f\"Dataset berhasil dibagi ke folder {target_dir} sebagai train dan val dengan rasio 80:20.\")"
   ]
  },
  {
   "cell_type": "code",
   "execution_count": 3,
   "id": "56e9efbc",
   "metadata": {},
   "outputs": [
    {
     "ename": "FileNotFoundError",
     "evalue": "[WinError 3] The system cannot find the path specified: 'dataset-v3\\\\train\\\\a_Baik'",
     "output_type": "error",
     "traceback": [
      "\u001b[1;31m---------------------------------------------------------------------------\u001b[0m",
      "\u001b[1;31mFileNotFoundError\u001b[0m                         Traceback (most recent call last)",
      "Cell \u001b[1;32mIn[3], line 5\u001b[0m\n\u001b[0;32m      2\u001b[0m jumlah_gambar_per_kelas \u001b[38;5;241m=\u001b[39m {cls_name: \u001b[38;5;28mlen\u001b[39m([f \u001b[38;5;28;01mfor\u001b[39;00m f \u001b[38;5;129;01min\u001b[39;00m os\u001b[38;5;241m.\u001b[39mlistdir(os\u001b[38;5;241m.\u001b[39mpath\u001b[38;5;241m.\u001b[39mjoin(source_dir, cls_name)) \u001b[38;5;28;01mif\u001b[39;00m f\u001b[38;5;241m.\u001b[39mlower()\u001b[38;5;241m.\u001b[39mendswith((\u001b[38;5;124m'\u001b[39m\u001b[38;5;124m.jpg\u001b[39m\u001b[38;5;124m'\u001b[39m, \u001b[38;5;124m'\u001b[39m\u001b[38;5;124m.jpeg\u001b[39m\u001b[38;5;124m'\u001b[39m, \u001b[38;5;124m'\u001b[39m\u001b[38;5;124m.png\u001b[39m\u001b[38;5;124m'\u001b[39m))]) \u001b[38;5;28;01mfor\u001b[39;00m cls_name \u001b[38;5;129;01min\u001b[39;00m classes}\n\u001b[0;32m      4\u001b[0m \u001b[38;5;66;03m# Hitung jumlah gambar di train dan val\u001b[39;00m\n\u001b[1;32m----> 5\u001b[0m jumlah_gambar_train \u001b[38;5;241m=\u001b[39m \u001b[38;5;28msum\u001b[39m(\u001b[43m[\u001b[49m\u001b[38;5;28;43mlen\u001b[39;49m\u001b[43m(\u001b[49m\u001b[43m[\u001b[49m\u001b[43mf\u001b[49m\u001b[43m \u001b[49m\u001b[38;5;28;43;01mfor\u001b[39;49;00m\u001b[43m \u001b[49m\u001b[43mf\u001b[49m\u001b[43m \u001b[49m\u001b[38;5;129;43;01min\u001b[39;49;00m\u001b[43m \u001b[49m\u001b[43mos\u001b[49m\u001b[38;5;241;43m.\u001b[39;49m\u001b[43mlistdir\u001b[49m\u001b[43m(\u001b[49m\u001b[43mos\u001b[49m\u001b[38;5;241;43m.\u001b[39;49m\u001b[43mpath\u001b[49m\u001b[38;5;241;43m.\u001b[39;49m\u001b[43mjoin\u001b[49m\u001b[43m(\u001b[49m\u001b[43mtarget_dir\u001b[49m\u001b[43m,\u001b[49m\u001b[43m \u001b[49m\u001b[38;5;124;43m'\u001b[39;49m\u001b[38;5;124;43mtrain\u001b[39;49m\u001b[38;5;124;43m'\u001b[39;49m\u001b[43m,\u001b[49m\u001b[43m \u001b[49m\u001b[43mcls_name\u001b[49m\u001b[43m)\u001b[49m\u001b[43m)\u001b[49m\u001b[43m \u001b[49m\u001b[38;5;28;43;01mif\u001b[39;49;00m\u001b[43m \u001b[49m\u001b[43mf\u001b[49m\u001b[38;5;241;43m.\u001b[39;49m\u001b[43mlower\u001b[49m\u001b[43m(\u001b[49m\u001b[43m)\u001b[49m\u001b[38;5;241;43m.\u001b[39;49m\u001b[43mendswith\u001b[49m\u001b[43m(\u001b[49m\u001b[43m(\u001b[49m\u001b[38;5;124;43m'\u001b[39;49m\u001b[38;5;124;43m.jpg\u001b[39;49m\u001b[38;5;124;43m'\u001b[39;49m\u001b[43m,\u001b[49m\u001b[43m \u001b[49m\u001b[38;5;124;43m'\u001b[39;49m\u001b[38;5;124;43m.jpeg\u001b[39;49m\u001b[38;5;124;43m'\u001b[39;49m\u001b[43m,\u001b[49m\u001b[43m \u001b[49m\u001b[38;5;124;43m'\u001b[39;49m\u001b[38;5;124;43m.png\u001b[39;49m\u001b[38;5;124;43m'\u001b[39;49m\u001b[43m)\u001b[49m\u001b[43m)\u001b[49m\u001b[43m]\u001b[49m\u001b[43m)\u001b[49m\u001b[43m \u001b[49m\u001b[38;5;28;43;01mfor\u001b[39;49;00m\u001b[43m \u001b[49m\u001b[43mcls_name\u001b[49m\u001b[43m \u001b[49m\u001b[38;5;129;43;01min\u001b[39;49;00m\u001b[43m \u001b[49m\u001b[43mclasses\u001b[49m\u001b[43m]\u001b[49m)\n\u001b[0;32m      6\u001b[0m jumlah_gambar_val \u001b[38;5;241m=\u001b[39m \u001b[38;5;28msum\u001b[39m([\u001b[38;5;28mlen\u001b[39m([f \u001b[38;5;28;01mfor\u001b[39;00m f \u001b[38;5;129;01min\u001b[39;00m os\u001b[38;5;241m.\u001b[39mlistdir(os\u001b[38;5;241m.\u001b[39mpath\u001b[38;5;241m.\u001b[39mjoin(target_dir, \u001b[38;5;124m'\u001b[39m\u001b[38;5;124mval\u001b[39m\u001b[38;5;124m'\u001b[39m, cls_name)) \u001b[38;5;28;01mif\u001b[39;00m f\u001b[38;5;241m.\u001b[39mlower()\u001b[38;5;241m.\u001b[39mendswith((\u001b[38;5;124m'\u001b[39m\u001b[38;5;124m.jpg\u001b[39m\u001b[38;5;124m'\u001b[39m, \u001b[38;5;124m'\u001b[39m\u001b[38;5;124m.jpeg\u001b[39m\u001b[38;5;124m'\u001b[39m, \u001b[38;5;124m'\u001b[39m\u001b[38;5;124m.png\u001b[39m\u001b[38;5;124m'\u001b[39m))]) \u001b[38;5;28;01mfor\u001b[39;00m cls_name \u001b[38;5;129;01min\u001b[39;00m classes])\n\u001b[0;32m      8\u001b[0m \u001b[38;5;28mprint\u001b[39m(\u001b[38;5;124m\"\u001b[39m\u001b[38;5;124mJumlah gambar per kelas:\u001b[39m\u001b[38;5;124m\"\u001b[39m, jumlah_gambar_per_kelas)\n",
      "Cell \u001b[1;32mIn[3], line 5\u001b[0m, in \u001b[0;36m<listcomp>\u001b[1;34m(.0)\u001b[0m\n\u001b[0;32m      2\u001b[0m jumlah_gambar_per_kelas \u001b[38;5;241m=\u001b[39m {cls_name: \u001b[38;5;28mlen\u001b[39m([f \u001b[38;5;28;01mfor\u001b[39;00m f \u001b[38;5;129;01min\u001b[39;00m os\u001b[38;5;241m.\u001b[39mlistdir(os\u001b[38;5;241m.\u001b[39mpath\u001b[38;5;241m.\u001b[39mjoin(source_dir, cls_name)) \u001b[38;5;28;01mif\u001b[39;00m f\u001b[38;5;241m.\u001b[39mlower()\u001b[38;5;241m.\u001b[39mendswith((\u001b[38;5;124m'\u001b[39m\u001b[38;5;124m.jpg\u001b[39m\u001b[38;5;124m'\u001b[39m, \u001b[38;5;124m'\u001b[39m\u001b[38;5;124m.jpeg\u001b[39m\u001b[38;5;124m'\u001b[39m, \u001b[38;5;124m'\u001b[39m\u001b[38;5;124m.png\u001b[39m\u001b[38;5;124m'\u001b[39m))]) \u001b[38;5;28;01mfor\u001b[39;00m cls_name \u001b[38;5;129;01min\u001b[39;00m classes}\n\u001b[0;32m      4\u001b[0m \u001b[38;5;66;03m# Hitung jumlah gambar di train dan val\u001b[39;00m\n\u001b[1;32m----> 5\u001b[0m jumlah_gambar_train \u001b[38;5;241m=\u001b[39m \u001b[38;5;28msum\u001b[39m([\u001b[38;5;28mlen\u001b[39m([f \u001b[38;5;28;01mfor\u001b[39;00m f \u001b[38;5;129;01min\u001b[39;00m \u001b[43mos\u001b[49m\u001b[38;5;241;43m.\u001b[39;49m\u001b[43mlistdir\u001b[49m\u001b[43m(\u001b[49m\u001b[43mos\u001b[49m\u001b[38;5;241;43m.\u001b[39;49m\u001b[43mpath\u001b[49m\u001b[38;5;241;43m.\u001b[39;49m\u001b[43mjoin\u001b[49m\u001b[43m(\u001b[49m\u001b[43mtarget_dir\u001b[49m\u001b[43m,\u001b[49m\u001b[43m \u001b[49m\u001b[38;5;124;43m'\u001b[39;49m\u001b[38;5;124;43mtrain\u001b[39;49m\u001b[38;5;124;43m'\u001b[39;49m\u001b[43m,\u001b[49m\u001b[43m \u001b[49m\u001b[43mcls_name\u001b[49m\u001b[43m)\u001b[49m\u001b[43m)\u001b[49m \u001b[38;5;28;01mif\u001b[39;00m f\u001b[38;5;241m.\u001b[39mlower()\u001b[38;5;241m.\u001b[39mendswith((\u001b[38;5;124m'\u001b[39m\u001b[38;5;124m.jpg\u001b[39m\u001b[38;5;124m'\u001b[39m, \u001b[38;5;124m'\u001b[39m\u001b[38;5;124m.jpeg\u001b[39m\u001b[38;5;124m'\u001b[39m, \u001b[38;5;124m'\u001b[39m\u001b[38;5;124m.png\u001b[39m\u001b[38;5;124m'\u001b[39m))]) \u001b[38;5;28;01mfor\u001b[39;00m cls_name \u001b[38;5;129;01min\u001b[39;00m classes])\n\u001b[0;32m      6\u001b[0m jumlah_gambar_val \u001b[38;5;241m=\u001b[39m \u001b[38;5;28msum\u001b[39m([\u001b[38;5;28mlen\u001b[39m([f \u001b[38;5;28;01mfor\u001b[39;00m f \u001b[38;5;129;01min\u001b[39;00m os\u001b[38;5;241m.\u001b[39mlistdir(os\u001b[38;5;241m.\u001b[39mpath\u001b[38;5;241m.\u001b[39mjoin(target_dir, \u001b[38;5;124m'\u001b[39m\u001b[38;5;124mval\u001b[39m\u001b[38;5;124m'\u001b[39m, cls_name)) \u001b[38;5;28;01mif\u001b[39;00m f\u001b[38;5;241m.\u001b[39mlower()\u001b[38;5;241m.\u001b[39mendswith((\u001b[38;5;124m'\u001b[39m\u001b[38;5;124m.jpg\u001b[39m\u001b[38;5;124m'\u001b[39m, \u001b[38;5;124m'\u001b[39m\u001b[38;5;124m.jpeg\u001b[39m\u001b[38;5;124m'\u001b[39m, \u001b[38;5;124m'\u001b[39m\u001b[38;5;124m.png\u001b[39m\u001b[38;5;124m'\u001b[39m))]) \u001b[38;5;28;01mfor\u001b[39;00m cls_name \u001b[38;5;129;01min\u001b[39;00m classes])\n\u001b[0;32m      8\u001b[0m \u001b[38;5;28mprint\u001b[39m(\u001b[38;5;124m\"\u001b[39m\u001b[38;5;124mJumlah gambar per kelas:\u001b[39m\u001b[38;5;124m\"\u001b[39m, jumlah_gambar_per_kelas)\n",
      "\u001b[1;31mFileNotFoundError\u001b[0m: [WinError 3] The system cannot find the path specified: 'dataset-v3\\\\train\\\\a_Baik'"
     ]
    }
   ],
   "source": [
    "# Hitung jumlah gambar di setiap kelas\n",
    "jumlah_gambar_per_kelas = {cls_name: len([f for f in os.listdir(os.path.join(source_dir, cls_name)) if f.lower().endswith(('.jpg', '.jpeg', '.png'))]) for cls_name in classes}\n",
    "\n",
    "# Hitung jumlah gambar di train dan val\n",
    "jumlah_gambar_train = sum([len([f for f in os.listdir(os.path.join(target_dir, 'train', cls_name)) if f.lower().endswith(('.jpg', '.jpeg', '.png'))]) for cls_name in classes])\n",
    "jumlah_gambar_val = sum([len([f for f in os.listdir(os.path.join(target_dir, 'val', cls_name)) if f.lower().endswith(('.jpg', '.jpeg', '.png'))]) for cls_name in classes])\n",
    "\n",
    "print(\"Jumlah gambar per kelas:\", jumlah_gambar_per_kelas)\n",
    "print(\"Jumlah gambar di train:\", jumlah_gambar_train)\n",
    "print(\"Jumlah gambar di val:\", jumlah_gambar_val)"
   ]
  },
  {
   "cell_type": "code",
   "execution_count": 3,
   "id": "746c75f8",
   "metadata": {},
   "outputs": [
    {
     "name": "stdout",
     "output_type": "stream",
     "text": [
      "Jumlah gambar di setiap kelas pada train: {'a_Baik': 1228, 'b_Sedang': 1258, 'c_Tidak_Sehat': 2097, 'd_Sangat_Tidak_Sehat': 1755}\n",
      "Jumlah gambar di setiap kelas pada val: {'a_Baik': 308, 'b_Sedang': 315, 'c_Tidak_Sehat': 525, 'd_Sangat_Tidak_Sehat': 439}\n"
     ]
    }
   ],
   "source": [
    "jumlah_gambar_train_per_kelas = {\n",
    "    cls_name: len([f for f in os.listdir(os.path.join(target_dir, 'train', cls_name)) if f.lower().endswith(('.jpg', '.jpeg', '.png'))])\n",
    "    for cls_name in classes\n",
    "}\n",
    "\n",
    "jumlah_gambar_val_per_kelas = {\n",
    "    cls_name: len([f for f in os.listdir(os.path.join(target_dir, 'val', cls_name)) if f.lower().endswith(('.jpg', '.jpeg', '.png'))])\n",
    "    for cls_name in classes\n",
    "}\n",
    "\n",
    "print(\"Jumlah gambar di setiap kelas pada train:\", jumlah_gambar_train_per_kelas)\n",
    "print(\"Jumlah gambar di setiap kelas pada val:\", jumlah_gambar_val_per_kelas)"
   ]
  }
 ],
 "metadata": {
  "kernelspec": {
   "display_name": "Python 3",
   "language": "python",
   "name": "python3"
  },
  "language_info": {
   "codemirror_mode": {
    "name": "ipython",
    "version": 3
   },
   "file_extension": ".py",
   "mimetype": "text/x-python",
   "name": "python",
   "nbconvert_exporter": "python",
   "pygments_lexer": "ipython3",
   "version": "3.11.0"
  }
 },
 "nbformat": 4,
 "nbformat_minor": 5
}
