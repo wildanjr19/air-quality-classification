{
 "cells": [
  {
   "cell_type": "code",
   "execution_count": 2,
   "id": "8cf9e9bd",
   "metadata": {},
   "outputs": [],
   "source": [
    "import os\n",
    "import shutil\n",
    "import random"
   ]
  },
  {
   "cell_type": "code",
   "execution_count": null,
   "id": "0d23bf0c",
   "metadata": {},
   "outputs": [
    {
     "name": "stdout",
     "output_type": "stream",
     "text": [
      "Total data di folder 'data': 2\n",
      "Jumlah kategori train: 4\n",
      "Jumlah data val: 4\n",
      "\n",
      "Jumlah gambar per kelas di 'train':\n",
      "- a_Baik: 2229\n",
      "- b_Sedang: 2259\n",
      "- c_Tidak_Sehat: 3098\n",
      "- d_Sangat_Tidak_Sehat: 1755\n",
      "Total gambar train: 9341\n",
      "\n",
      "Jumlah gambar per kelas di 'val':\n",
      "- a_Baik: 558\n",
      "- b_Sedang: 565\n",
      "- c_Tidak_Sehat: 775\n",
      "- d_Sangat_Tidak_Sehat: 439\n",
      "Total gambar val: 2337\n",
      "\n",
      "Total semua gambar: 11678\n"
     ]
    }
   ],
   "source": [
    "# hitung subfolder di data\n",
    "num_files = len(os.listdir(\"../data\"))\n",
    "\n",
    "# hitung jumlah kategori di train dan val\n",
    "num_train = len(os.listdir(\"../data/train\"))\n",
    "num_val = len(os.listdir(\"../data/val\"))\n",
    "\n",
    "print(f\"Total data di folder 'data': {num_files}\")\n",
    "print(f\"Jumlah kategori train: {num_train}\")\n",
    "print(f\"Jumlah data val: {num_val}\")\n",
    "\n",
    "# hitung jumlah gambar per kelas di train dan totalnya\n",
    "print(\"\\nJumlah gambar per kelas di 'train':\")\n",
    "total_train_images = 0\n",
    "for class_name in os.listdir(\"../data/train\"):\n",
    "    class_path = os.path.join(\"../data/train\", class_name)\n",
    "    if os.path.isdir(class_path):\n",
    "        num_images = len(os.listdir(class_path))\n",
    "        total_train_images += num_images\n",
    "        print(f\"- {class_name}: {num_images}\")\n",
    "print(f\"Total gambar train: {total_train_images}\")\n",
    "\n",
    "# hitung jumlah gambar per kelas di val dan totalnya\n",
    "print(\"\\nJumlah gambar per kelas di 'val':\")\n",
    "total_val_images = 0\n",
    "for class_name in os.listdir(\"../data/val\"):\n",
    "    class_path = os.path.join(\"../data/val\", class_name)\n",
    "    if os.path.isdir(class_path):\n",
    "        num_images = len(os.listdir(class_path))\n",
    "        total_val_images += num_images\n",
    "        print(f\"- {class_name}: {num_images}\")\n",
    "print(f\"Total gambar val: {total_val_images}\")\n",
    "\n",
    "\n",
    "# total semua gambar\n",
    "total_images = total_train_images + total_val_images\n",
    "print(f\"\\nTotal semua gambar: {total_images}\")"
   ]
  }
 ],
 "metadata": {
  "kernelspec": {
   "display_name": "Python 3",
   "language": "python",
   "name": "python3"
  },
  "language_info": {
   "codemirror_mode": {
    "name": "ipython",
    "version": 3
   },
   "file_extension": ".py",
   "mimetype": "text/x-python",
   "name": "python",
   "nbconvert_exporter": "python",
   "pygments_lexer": "ipython3",
   "version": "3.11.0"
  }
 },
 "nbformat": 4,
 "nbformat_minor": 5
}
